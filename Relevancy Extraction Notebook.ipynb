{
 "cells": [
  {
   "attachments": {},
   "cell_type": "markdown",
   "metadata": {},
   "source": [
    "# **Article Relevancy Extraction**"
   ]
  },
  {
   "attachments": {},
   "cell_type": "markdown",
   "metadata": {},
   "source": [
    "## Project Content <a id = 0></a>"
   ]
  },
  {
   "attachments": {},
   "cell_type": "markdown",
   "metadata": {},
   "source": [
    "### First Step: First Organization\n",
    "\n",
    "1. [Introduction](#1)\n",
    "2. [Loading The Relevant Libraries and Packages](#2)\n",
    "\n",
    "### Second Step: Data Preprocessing\n",
    "\n",
    "3. [Loading and Preprocessing The Dataset](#3)\n",
    "\n",
    "### Third and Final Step: Prompt Engineering\n",
    "\n",
    "4. [Prompt Engineering and Article Relevany Extraction Using The OpneAI GPT 3.5 Turbo API](#4)"
   ]
  },
  {
   "attachments": {},
   "cell_type": "markdown",
   "metadata": {},
   "source": [
    "***\n",
    "\n",
    "# First Step: First Organization\n",
    "\n",
    "***"
   ]
  },
  {
   "attachments": {},
   "cell_type": "markdown",
   "metadata": {},
   "source": [
    "## 1. Introduction <a id = 1></a>"
   ]
  },
  {
   "attachments": {},
   "cell_type": "markdown",
   "metadata": {},
   "source": [
    "### Project Overview\n",
    "\n",
    "In this project, a comprehensive study was conducted with a focus on the extraction of paper relevancy using the OpenAI API.</br>\n",
    "The research journey was initiated by converting an RTF query file into a more adaptable TXT format, forming the basis of our experimental dataset.</br>\n",
    "The next step is comprising paper titles, abstracts, and metadata. </br>\n",
    "Python was employed for metadata extraction and the subsequent storage of data in an Excel sheet.</br>\n",
    "Leveraging the OpenAI Chat GPT 3.5 Turbo API, the assessment of prompt-paper relevancy was meticulously performed, and binary results were recorded in a structured Pandas dataframe.</br>\n",
    "This approach allowed for a detailed and precise evaluation of prompt relevancy for each individual paper.\n",
    "\n",
    "### Data Description\n",
    "\n",
    "The dataset used in this study encompasses a diverse range of research papers, comprising a total of 330 documents.</br>\n",
    "Each document is structured to include paper titles, detailed abstracts, and associated metadata, providing a comprehensive snapshot of the academic landscape under investigation.</br>\n",
    "Metadata fields encompass critical attributes such as publication dates, author information, and citation counts.</br>\n",
    "This dataset not only serves as the foundation for our research but also ensures the richness and depth required for a thorough analysis of paper relevancy and its implications."
   ]
  },
  {
   "attachments": {},
   "cell_type": "markdown",
   "metadata": {},
   "source": [
    "[Project Content](#0)"
   ]
  },
  {
   "attachments": {},
   "cell_type": "markdown",
   "metadata": {},
   "source": [
    "## 2. Loading The Relevant Libraries and Packages <a id = 2></a>"
   ]
  },
  {
   "cell_type": "code",
   "execution_count": null,
   "metadata": {},
   "outputs": [],
   "source": [
    "# Basic Python packages\n",
    "import os\n",
    "import time\n",
    "\n",
    "# Data preprocessing libraries\n",
    "import pandas as pd\n",
    "from IPython.display import display\n",
    "\n",
    "# OpenAI library\n",
    "import openai"
   ]
  },
  {
   "cell_type": "code",
   "execution_count": null,
   "metadata": {},
   "outputs": [],
   "source": [
    "api_keys = [\"sk-****\", # 0\n",
    "            \"sk-****\", # 1\n",
    "            \"sk-****\", # 2\n",
    "            \"sk-****\", # 3\n",
    "            \"sk-****\", # 4\n",
    "            \"sk-****\", # 5\n",
    "            \"sk-****\"  # 6\n",
    "            ]"
   ]
  },
  {
   "cell_type": "code",
   "execution_count": null,
   "metadata": {},
   "outputs": [],
   "source": [
    "def generate_prompt(prompt, api_key):\n",
    "    \"\"\"\n",
    "    Generate a prompt completion using the OpenAI GPT-3.5 Turbo model.\n",
    "\n",
    "    Args:\n",
    "        prompt (str): The text prompt or input for the model.\n",
    "        api_key (str): Your OpenAI API key for authentication.\n",
    "\n",
    "    Returns:\n",
    "        str: The generated text completion as a response to the input prompt.\n",
    "    \"\"\"\n",
    "    \n",
    "    # Set the OpenAI API key for authentication\n",
    "    openai.api_key = api_key\n",
    "    \n",
    "    # Create a chat completion request using the GPT-3.5 Turbo model\n",
    "    response = openai.ChatCompletion.create(\n",
    "        model=\"gpt-3.5-turbo\",\n",
    "        messages=[{\"role\": \"system\", \"content\": prompt}],\n",
    "        max_tokens=100,         # Set a limit on the response length\n",
    "        temperature=0,          # Set the temperature for randomness (0 means deterministic)\n",
    "        n=1,                    # Generate a single response\n",
    "        stop=None,              # Stop generation at a specific token (None means no stop condition)\n",
    "        timeout=None            # Set a timeout for the request (None means no timeout)\n",
    "    )\n",
    "    \n",
    "    # Extract the generated content from the response and remove leading/trailing whitespace\n",
    "    return response.choices[0].message.content.strip()"
   ]
  },
  {
   "attachments": {},
   "cell_type": "markdown",
   "metadata": {},
   "source": [
    "[Project Content](#0)"
   ]
  },
  {
   "attachments": {},
   "cell_type": "markdown",
   "metadata": {},
   "source": [
    "***\n",
    "\n",
    "# Second Step: Data Preprocessing\n",
    "\n",
    "***"
   ]
  },
  {
   "attachments": {},
   "cell_type": "markdown",
   "metadata": {},
   "source": [
    "## 3. Loading and Preprocessing the dataset <a id = 3></a>"
   ]
  },
  {
   "cell_type": "markdown",
   "metadata": {},
   "source": [
    "Save the articles' information in a list object."
   ]
  },
  {
   "cell_type": "code",
   "execution_count": null,
   "metadata": {},
   "outputs": [],
   "source": [
    "# Define the path to the data file, assuming it's located in a directory named \"data\"\n",
    "data_path = os.path.join(\"data\", \"data.txt\")\n",
    "\n",
    "# Open the data file in read-only mode and assign it to the 'file' variable\n",
    "with open(data_path, \"r\") as file:\n",
    "    # Read the entire content of the file and store it in 'text_content'\n",
    "    text_content = file.read()\n",
    "\n",
    "# Split the text_content into individual articles using double newline characters as separators\n",
    "articles = text_content.split(\"\\n\\n\")\n",
    "\n",
    "print(f\"There are {len(articles)} articles in the dataset.\")\n",
    "print(40 * \"-\")\n",
    "\n",
    "for article in articles[:5]:\n",
    "    print(article)"
   ]
  },
  {
   "cell_type": "markdown",
   "metadata": {},
   "source": [
    "Create a Pandas dataframe to save the information and the experiment's results."
   ]
  },
  {
   "cell_type": "code",
   "execution_count": null,
   "metadata": {},
   "outputs": [],
   "source": [
    "# Define the column names for the DataFrame\n",
    "columns = [\"title\",\n",
    "           \"publication_date\",\n",
    "           \"authors\"]\n",
    "\n",
    "# Create an empty DataFrame with the specified columns\n",
    "df = pd.DataFrame(columns=columns)\n",
    "\n",
    "df"
   ]
  },
  {
   "cell_type": "markdown",
   "metadata": {},
   "source": [
    "Now, extract all the information from the txt file and organize it into a clean table.</br>\n",
    "To achieve this goal, create a dictionary object for each article and save them in a list object."
   ]
  },
  {
   "cell_type": "code",
   "execution_count": null,
   "metadata": {},
   "outputs": [],
   "source": [
    "# Initialize an empty list to store organized articles\n",
    "organized_articles = []\n",
    "\n",
    "# Loop through each article in the 'articles' list\n",
    "for article in articles:\n",
    "\n",
    "    # Split the article into lines based on newline characters\n",
    "    lines = article.split(\"\\n\")\n",
    "\n",
    "    # The first line contains article information, including title, publication date, and authors\n",
    "    article_info = lines[0]\n",
    "\n",
    "    # The remaining lines constitute the abstract, which we join into a single string and remove leading/trailing whitespace\n",
    "    abstract = \" \".join(lines[1:]).strip()\n",
    "\n",
    "    # Create a dictionary representing the organized article with title, publication date, authors, and abstract\n",
    "    article = {\n",
    "        \"title\": article_info.split('\"')[1],  # Extract the title (text within double quotes)\n",
    "        \"publication_date\": int(article_info.split(\" (\")[1][:4]),  # Extract the publication year (first four characters within parentheses)\n",
    "        \"authors\": article_info.split(\" (\")[0],  # Extract the authors (text before the first parenthesis)\n",
    "        \"abstract\": abstract  # Store the abstract\n",
    "    }\n",
    "\n",
    "    # Append the organized article dictionary to the 'organized_articles' list\n",
    "    organized_articles.append(article)\n",
    "\n",
    "# Print the first 5 organized articles for demonstration\n",
    "for article in organized_articles[:5]:\n",
    "    \n",
    "    for key in article.keys():\n",
    "        print(article[key])\n",
    "\n",
    "    print()"
   ]
  },
  {
   "cell_type": "markdown",
   "metadata": {},
   "source": [
    "Now, fill the table created before."
   ]
  },
  {
   "cell_type": "code",
   "execution_count": null,
   "metadata": {},
   "outputs": [],
   "source": [
    "# Iterate through each article in the 'organized_articles' list\n",
    "for article in organized_articles:\n",
    "    \n",
    "    # Get the index of the current article in the 'organized_articles' list\n",
    "    idx = organized_articles.index(article)\n",
    "    \n",
    "    # Use the index to assign the values of the 'article' to the corresponding row in the DataFrame 'df'\n",
    "    df.loc[idx] = article\n",
    "\n",
    "df.head(5)"
   ]
  },
  {
   "cell_type": "markdown",
   "metadata": {},
   "source": [
    "Save the table as an excel file."
   ]
  },
  {
   "cell_type": "code",
   "execution_count": null,
   "metadata": {},
   "outputs": [],
   "source": [
    "# Define the path where the output Excel file will be saved.\n",
    "output_path = os.path.join(\"output\", \"output_table.xlsx\")\n",
    "\n",
    "# Export the DataFrame 'df' to an Excel file at the specified 'output_path'.\n",
    "df.to_excel(output_path)"
   ]
  },
  {
   "attachments": {},
   "cell_type": "markdown",
   "metadata": {},
   "source": [
    "[Project Content](#0)"
   ]
  },
  {
   "attachments": {},
   "cell_type": "markdown",
   "metadata": {},
   "source": [
    "***\n",
    "\n",
    "# Third and Final Step: Modeling\n",
    "\n",
    "***"
   ]
  },
  {
   "attachments": {},
   "cell_type": "markdown",
   "metadata": {},
   "source": [
    "## 4. Prompt Engineering and Article Relevany Extraction Using The OpneAI GPT 3.5 Turbo API <a id = 4></a>"
   ]
  },
  {
   "cell_type": "markdown",
   "metadata": {},
   "source": [
    "Now, everything is fine to ask the OpenAI what we need."
   ]
  },
  {
   "cell_type": "markdown",
   "metadata": {},
   "source": [
    "### Prompt 1"
   ]
  },
  {
   "cell_type": "code",
   "execution_count": null,
   "metadata": {},
   "outputs": [],
   "source": [
    "for i in range(len(df))[159:]:\n",
    "    \n",
    "    prompt_1 = f\"\"\"\n",
    "        We are trying to conduct a PRISMA systematic review study titled:\\\n",
    "        \"Light therapy in insomnia disorder\"\\\n",
    "\n",
    "        Check the title and abstract if it should be selected for further assessment and full-text screening.\\\n",
    "        Provide you answer only as 0 or 1.\\\n",
    "\n",
    "        Our inclusion criteria are the followings:\\\n",
    "        - Criterion A: Must have enrolled only patients who had been diagnosed with chronic insomnia disorder. We also include studies in which insomnia diagnosis was not based on proper classification criteria, but was based on “sleep troubles” including at least one insomnia complaint, without any other diagnosis of sleep disorder.\\\n",
    "        - Criterion B: Studies assessing the efficacy of light therapy.\\\n",
    "        - Criterion C: Publication written in English.\\\n",
    "        - Criterion D: Study design could be observational or interventional.\\\n",
    "            \n",
    "        Article Title: {organized_articles[i][\"title\"]}\\\n",
    "\n",
    "        Article Abstract: {organized_articles[i][\"abstract\"]}\\\n",
    "        \"\"\"\n",
    "    \n",
    "    output = generate_prompt(prompt_1, api_keys[0])\n",
    "            \n",
    "    df.at[i, \"prompt_1\"] = output\n",
    "                \n",
    "    print(f\"The article {i} has been screened. The output is {output}.\")\n",
    "\n",
    "    time.sleep(21)\n",
    "        \n",
    "output_path = os.path.join(\"output\", f\"prompt_1.xlsx\")\n",
    "df.to_excel(output_path)\n",
    "\n",
    "df.head(5)"
   ]
  },
  {
   "cell_type": "code",
   "execution_count": null,
   "metadata": {},
   "outputs": [],
   "source": [
    "output_path = os.path.join(\"output\", f\"prompt_1.xlsx\")\n",
    "df.to_excel(output_path)\n",
    "\n",
    "df.head(5)"
   ]
  },
  {
   "cell_type": "markdown",
   "metadata": {},
   "source": [
    "### Prompt 2"
   ]
  },
  {
   "cell_type": "code",
   "execution_count": null,
   "metadata": {},
   "outputs": [],
   "source": [
    "for i in range(len(df)):\n",
    "    \n",
    "    prompt_2 = f\"\"\"\n",
    "        We are trying to conduct a PRISMA systematic review study titled:\\\n",
    "        \"Light therapy in insomnia disorder\"\\\n",
    "\n",
    "        Check the title and abstract if it should be selected for further assessment and full-text screening.\\\n",
    "        Provide you answer only as 0 or 1.\\\n",
    "\n",
    "        Our inclusion criteria are the followings:\\\n",
    "        - Criterion A: Studies including patients with sleep troubles without any other diagnosis of sleep disorder.\\\n",
    "        - Criterion B: Studies assessing the efficacy of light therapy.\\\n",
    "        - Criterion C: Publication written in English.\\\n",
    "        - Criterion D: Study design could be observational or interventional.\\\n",
    "            \n",
    "        Article Title: {organized_articles[i][\"title\"]}\\\n",
    "\n",
    "        Article Abstract: {organized_articles[i][\"abstract\"]}\\\n",
    "        \"\"\"\n",
    "    \n",
    "    output = generate_prompt(prompt_2, api_keys[0])\n",
    "            \n",
    "    df.at[i, \"prompt_2\"] = output\n",
    "                \n",
    "    print(f\"The article {i} has been screened. The output is {output}.\")\n",
    "\n",
    "    time.sleep(21)\n",
    "        \n",
    "output_path = os.path.join(\"output\", f\"prompt_2.xlsx\")\n",
    "df.to_excel(output_path)\n",
    "\n",
    "df.head(5)"
   ]
  },
  {
   "cell_type": "code",
   "execution_count": null,
   "metadata": {},
   "outputs": [],
   "source": [
    "output_path = os.path.join(\"output\", f\"prompt_2.xlsx\")\n",
    "df.to_excel(output_path)\n",
    "\n",
    "df.head(5)"
   ]
  },
  {
   "cell_type": "markdown",
   "metadata": {},
   "source": [
    "### Prompt 3"
   ]
  },
  {
   "cell_type": "code",
   "execution_count": null,
   "metadata": {},
   "outputs": [],
   "source": [
    "for i in range(len(df))[296:]:\n",
    "    \n",
    "    prompt_3 = f\"\"\"\n",
    "        We are trying to conduct a PRISMA systematic review study titled:\\\n",
    "        \"Light therapy in insomnia disorder\"\\\n",
    "\n",
    "        Check the title and abstract if it should be selected for further assessment and full-text screening.\\\n",
    "        Provide you answer only as 0 or 1.\\\n",
    "\n",
    "        Our inclusion criteria are the followings:\\\n",
    "        - Criterion A: Studies including patients with sleep troubles.\\\n",
    "        - Criterion B: Studies assessing the efficacy of light therapy.\\\n",
    "        - Criterion C: Publication written in English.\\\n",
    "        - Criterion D: Study design could be observational or interventional.\\\n",
    "            \n",
    "        Article Title: {organized_articles[i][\"title\"]}\\\n",
    "\n",
    "        Article Abstract: {organized_articles[i][\"abstract\"]}\\\n",
    "        \"\"\"\n",
    "    \n",
    "    output = generate_prompt(prompt_3, api_keys[0])\n",
    "\n",
    "            \n",
    "    df.at[i, \"prompt_3\"] = output\n",
    "                \n",
    "    print(f\"The article {i} has been screened. The output is {output}.\")\n",
    "\n",
    "    time.sleep(21)\n",
    "        \n",
    "output_path = os.path.join(\"output\", f\"prompt_3.xlsx\")\n",
    "df.to_excel(output_path)\n",
    "\n",
    "df.head(5)"
   ]
  },
  {
   "cell_type": "code",
   "execution_count": null,
   "metadata": {},
   "outputs": [],
   "source": [
    "output_path = os.path.join(\"output\", f\"prompt_3.xlsx\")\n",
    "df.to_excel(output_path)\n",
    "\n",
    "df.head(5)"
   ]
  },
  {
   "cell_type": "markdown",
   "metadata": {},
   "source": [
    "### Prompt 4"
   ]
  },
  {
   "cell_type": "code",
   "execution_count": null,
   "metadata": {},
   "outputs": [],
   "source": [
    "for i in range(len(df))[203:]:\n",
    "    \n",
    "    prompt_4 = f\"\"\"\n",
    "        You are an experienced systematic review researcher and you are trying to conduct a PRISMA systematic review and meta-analysis titled:\\\n",
    "        \"Light therapy in insomnia disorder\"\\\n",
    "\n",
    "        Check the title and abstract if it should be selected for further assessment and full-text screening.\\\n",
    "        Provide you answer only as 0 or 1.\\\n",
    "\n",
    "        Our inclusion criteria are the followings:\\\n",
    "        - Criterion A: Studies including patients with sleep troubles.\\\n",
    "        - Criterion B: Studies assessing the efficacy of light therapy.\\\n",
    "        - Criterion C: Publication written in English.\\\n",
    "        - Criterion D: Study design could be observational or interventional.\\\n",
    "            \n",
    "        Article Title: {organized_articles[i][\"title\"]}\\\n",
    "\n",
    "        Article Abstract: {organized_articles[i][\"abstract\"]}\\\n",
    "        \"\"\"\n",
    "            \n",
    "    output = generate_prompt(prompt_4, api_keys[0])\n",
    "    \n",
    "    df.at[i, \"prompt_4\"] = output\n",
    "                \n",
    "    print(f\"The article {i} has been screened. The output is {output}.\")\n",
    "\n",
    "    time.sleep(21)\n",
    "        \n",
    "output_path = os.path.join(\"output\", f\"prompt_4.xlsx\")\n",
    "df.to_excel(output_path)\n",
    "\n",
    "df.head(5)"
   ]
  },
  {
   "cell_type": "code",
   "execution_count": null,
   "metadata": {},
   "outputs": [],
   "source": [
    "output_path = os.path.join(\"output\", f\"prompt_4.xlsx\")\n",
    "df.to_excel(output_path)\n",
    "\n",
    "df.head(5)"
   ]
  },
  {
   "cell_type": "markdown",
   "metadata": {},
   "source": [
    "### Prompt 5"
   ]
  },
  {
   "cell_type": "code",
   "execution_count": null,
   "metadata": {},
   "outputs": [],
   "source": [
    "for i in range(len(df))[293:]:\n",
    "    \n",
    "    prompt_5 = f\"\"\"\n",
    "        You are an experienced systematic review researcher and you are trying to conduct a PRISMA systematic review and meta-analysis titled:\\\n",
    "        \"Light therapy in insomnia disorder\"\\\n",
    "\n",
    "        Check the title and abstract if it should be selected for further assessment and full-text screening.\\\n",
    "        Provide you answer only as 0 or 1.\\\n",
    "\n",
    "        Our inclusion criteria are the followings:\\\n",
    "        - Criterion A: Studies including patients with sleep troubles.\\\n",
    "        - Criterion B: Studies assessing the efficacy of light therapy.\\\n",
    "        - Criterion C: Publication written in English.\\\n",
    "        - Criterion D: Study design could be observational or interventional.\\\n",
    "        \n",
    "        If the title and abstract were not clear about criterion A, B, or D, it is preferred to include the study.\n",
    "            \n",
    "        Article Title: {organized_articles[i][\"title\"]}\\\n",
    "\n",
    "        Article Abstract: {organized_articles[i][\"abstract\"]}\\\n",
    "        \"\"\"\n",
    "            \n",
    "    output = generate_prompt(prompt_5, api_keys[0])\n",
    "    \n",
    "    df.at[i, \"prompt_5\"] = output\n",
    "                \n",
    "    print(f\"The article {i} has been screened. The output is {output}.\")\n",
    "\n",
    "    time.sleep(21)\n",
    "        \n",
    "output_path = os.path.join(\"output\", f\"prompt_5.xlsx\")\n",
    "df.to_excel(output_path)\n",
    "\n",
    "df.head(5)"
   ]
  },
  {
   "cell_type": "code",
   "execution_count": null,
   "metadata": {},
   "outputs": [],
   "source": [
    "output_path = os.path.join(\"output\", f\"prompt_5.xlsx\")\n",
    "df.to_excel(output_path)\n",
    "\n",
    "df.head(5)"
   ]
  },
  {
   "cell_type": "markdown",
   "metadata": {},
   "source": [
    "### Prompt 6"
   ]
  },
  {
   "cell_type": "code",
   "execution_count": null,
   "metadata": {},
   "outputs": [],
   "source": [
    "for i in range(len(df))[312:]:\n",
    "    \n",
    "    prompt_6 = f\"\"\"\n",
    "        You are an experienced systematic review researcher and you are trying to conduct a PRISMA systematic review and meta-analysis titled:\\\n",
    "        \"Light therapy in insomnia disorder\"\\\n",
    "        \n",
    "        Check the title and abstract if it should be selected for further assessment and full-text screening.\\\n",
    "        Provide you answer only as 0 or 1.\\\n",
    "\n",
    "        You are looking for English original studies working on the effect of light therapy in patients with sleeping problems.\\\n",
    "        It is important not to miss possible relevant studies.\\\n",
    "        It is preferred to include studies you are not sure about them.\\\n",
    "            \n",
    "        Article Title: {organized_articles[i][\"title\"]}\\\n",
    "\n",
    "        Article Abstract: {organized_articles[i][\"abstract\"]}\\\n",
    "        \"\"\"\n",
    "            \n",
    "    output = generate_prompt(prompt_6, api_keys[0])\n",
    "    \n",
    "    df.at[i, \"prompt_6\"] = output\n",
    "                \n",
    "    print(f\"The article {i} has been screened. The output is {output}.\")\n",
    "\n",
    "    time.sleep(21)\n",
    "        \n",
    "output_path = os.path.join(\"output\", f\"prompt_6.xlsx\")\n",
    "df.to_excel(output_path)\n",
    "\n",
    "df.head(5)"
   ]
  },
  {
   "cell_type": "code",
   "execution_count": null,
   "metadata": {},
   "outputs": [],
   "source": [
    "output_path = os.path.join(\"output\", f\"prompt_6.xlsx\")\n",
    "df.to_excel(output_path)\n",
    "\n",
    "df.head(5)"
   ]
  },
  {
   "cell_type": "markdown",
   "metadata": {},
   "source": [
    "### Prompt 7"
   ]
  },
  {
   "cell_type": "code",
   "execution_count": null,
   "metadata": {},
   "outputs": [],
   "source": [
    "for i in range(len(df))[317:]:\n",
    "    \n",
    "    prompt_7 = f\"\"\"\n",
    "        You are an experienced systematic review researcher and you are trying to conduct a PRISMA systematic review and meta-analysis titled:\\\n",
    "        \"Light therapy in insomnia disorder\"\\\n",
    "\n",
    "        Check the title and abstract if it should be selected for further assessment and full-text screening.\\\n",
    "        Provide you answer only as 0 or 1.\\\n",
    "\n",
    "        You are looking for English original studies working on the effect of light therapy in patients with sleeping problems.\\\n",
    "        It is important not to miss possible relevant studies.\\\n",
    "        It is preferred not to include studies you are not sure about them.\\\n",
    "            \n",
    "        Article Title: {organized_articles[i][\"title\"]}\\\n",
    "\n",
    "        Article Abstract: {organized_articles[i][\"abstract\"]}\\\n",
    "        \"\"\"\n",
    "            \n",
    "    output = generate_prompt(prompt_7, api_keys[0])\n",
    "    \n",
    "    df.at[i, \"prompt_7\"] = output\n",
    "                \n",
    "    print(f\"The article {i} has been screened. The output is {output}.\")\n",
    "\n",
    "    time.sleep(21)\n",
    "        \n",
    "output_path = os.path.join(\"output\", f\"prompt_7.xlsx\")\n",
    "df.to_excel(output_path)\n",
    "\n",
    "df.head(5)"
   ]
  },
  {
   "cell_type": "code",
   "execution_count": null,
   "metadata": {},
   "outputs": [],
   "source": [
    "output_path = os.path.join(\"output\", f\"prompt_7.xlsx\")\n",
    "df.to_excel(output_path)\n",
    "\n",
    "df.head(5)"
   ]
  },
  {
   "cell_type": "markdown",
   "metadata": {},
   "source": [
    "### Prompt 1 (Revised)"
   ]
  },
  {
   "cell_type": "code",
   "execution_count": null,
   "metadata": {},
   "outputs": [],
   "source": [
    "for i in range(len(df))[287:]:\n",
    "    \n",
    "    prompt_1r = f\"\"\"\n",
    "        Title: \"Light therapy in insomnia disorder\"\\\n",
    "\n",
    "        You are conducting a PRISMA systematic review and meta-analysis to assess the efficacy of light therapy in patients with insomnia disorder.\\\n",
    "        Your goal is to identify as many relevant studies as possible to ensure a comprehensive review.\\\n",
    "\n",
    "        Check the title and abstract if it should be selected for further assessment and full-text screening.\\\n",
    "        Provide you answer only as 0 or 1.\\\n",
    "            \n",
    "        Inclusion Criteria:\\\n",
    "        Criterion A: Studies involving patients with any form of sleep disturbances or insomnia disorder, regardless of sleep disorder diagnoses.\\\n",
    "        Criterion B: Studies assessing the efficacy of light therapy.\\\n",
    "        Criterion C: Publications written in English.\\\n",
    "        Criterion D: Study design could be observational or interventional.\\\n",
    "            \n",
    "        Your primary objective is to avoid missing any potentially relevant studies.\\\n",
    "        If the title and abstract are not explicit about meeting the inclusion criteria, it is preferred to err on the side of inclusivity and include the study for further assessment.\\\n",
    "            \n",
    "        Article Title: {organized_articles[i][\"title\"]}\\\n",
    "\n",
    "        Article Abstract: {organized_articles[i][\"abstract\"]}\\\n",
    "        \"\"\"\n",
    "            \n",
    "    output = generate_prompt(prompt_1r, api_keys[0])\n",
    "    \n",
    "    df.at[i, \"prompt_1r\"] = output\n",
    "                \n",
    "    print(f\"The article {i} has been screened. The output is {output}.\")\n",
    "\n",
    "    time.sleep(21)\n",
    "        \n",
    "output_path = os.path.join(\"output\", f\"prompt_1r.xlsx\")\n",
    "df.to_excel(output_path)\n",
    "\n",
    "df.head(5)"
   ]
  },
  {
   "cell_type": "code",
   "execution_count": null,
   "metadata": {},
   "outputs": [],
   "source": [
    "output_path = os.path.join(\"output\", f\"prompt_1r.xlsx\")\n",
    "df.to_excel(output_path)\n",
    "\n",
    "df.head(5)"
   ]
  },
  {
   "cell_type": "markdown",
   "metadata": {},
   "source": [
    "### Prompt 6 (Revised)"
   ]
  },
  {
   "cell_type": "code",
   "execution_count": null,
   "metadata": {},
   "outputs": [],
   "source": [
    "for i in range(len(df))[164:]:\n",
    "    \n",
    "    prompt_6r = f\"\"\"\n",
    "        You are an experienced systematic review researcher and you are trying to conduct a PRISMA systematic review and meta-analysis titled: \"Light therapy in insomnia disorder.\"\\\n",
    "\n",
    "        Check the title and abstract to determine if the study should be selected for further assessment and full-text screening.\\\n",
    "        Provide you answer only as 0 or 1.\\\n",
    "\n",
    "        Your primary objective is to identify relevant studies on the effect of light therapy in patients with sleeping problems.\\\n",
    "        You are looking for English original studies focusing on this topic.\\\n",
    "\n",
    "        Please be cautious and prioritize inclusivity.\\\n",
    "        If the title and abstract hint at potential relevance, even if the criteria are not explicitly stated, include the study for further assessment.\\\n",
    "            \n",
    "        Article Title: {organized_articles[i][\"title\"]}\\\n",
    "\n",
    "        Article Abstract: {organized_articles[i][\"abstract\"]}\\\n",
    "        \"\"\"\n",
    "            \n",
    "    output = generate_prompt(prompt_6r, api_keys[0])\n",
    "    \n",
    "    df.at[i, \"prompt_6r\"] = output\n",
    "                \n",
    "    print(f\"The article {i} has been screened. The output is {output}.\")\n",
    "\n",
    "    time.sleep(21)\n",
    "        \n",
    "output_path = os.path.join(\"output\", f\"prompt_6r.xlsx\")\n",
    "df.to_excel(output_path)\n",
    "\n",
    "df.head(5)"
   ]
  },
  {
   "cell_type": "code",
   "execution_count": null,
   "metadata": {},
   "outputs": [],
   "source": [
    "output_path = os.path.join(\"output\", f\"prompt_6r.xlsx\")\n",
    "df.to_excel(output_path)\n",
    "\n",
    "df.head(5)"
   ]
  },
  {
   "cell_type": "markdown",
   "metadata": {},
   "source": [
    "### Prompt 7 (Revised)"
   ]
  },
  {
   "cell_type": "code",
   "execution_count": null,
   "metadata": {},
   "outputs": [],
   "source": [
    "for i in range(len(df))[288:]:\n",
    "    \n",
    "    prompt_7r = f\"\"\"\n",
    "        You are an experienced systematic review researcher and you are trying to conduct a PRISMA systematic review and meta-analysis titled: \"Light therapy in insomnia disorder.\"\\\n",
    "\n",
    "        Check the title and abstract to determine if the study should be selected for further assessment and full-text screening.\\\n",
    "        Provide you answer only as 0 or 1.\\\n",
    "\n",
    "        Your primary objective is to identify English original studies on the effect of light therapy in patients with sleeping problems.\\\n",
    "\n",
    "        Please aim for high sensitivity in your screening process.\\\n",
    "        While you should exercise discretion, prioritize inclusivity.\\\n",
    "        If the abstract suggests potential relevance, include the study for further assessment.\\\n",
    "            \n",
    "        Article Title: {organized_articles[i][\"title\"]}\\\n",
    "\n",
    "        Article Abstract: {organized_articles[i][\"abstract\"]}\\\n",
    "        \"\"\"\n",
    "            \n",
    "    output = generate_prompt(prompt_7r, api_keys[0])\n",
    "    \n",
    "    df.at[i, \"prompt_7r\"] = output\n",
    "                \n",
    "    print(f\"The article {i} has been screened. The output is {output}.\")\n",
    "\n",
    "    time.sleep(21)\n",
    "        \n",
    "output_path = os.path.join(\"output\", f\"prompt_7r.xlsx\")\n",
    "df.to_excel(output_path)\n",
    "\n",
    "df.head(5)"
   ]
  },
  {
   "cell_type": "code",
   "execution_count": null,
   "metadata": {},
   "outputs": [],
   "source": [
    "output_path = os.path.join(\"output\", f\"prompt_7r.xlsx\")\n",
    "df.to_excel(output_path)\n",
    "\n",
    "df.head(5)"
   ]
  },
  {
   "cell_type": "markdown",
   "metadata": {},
   "source": [
    "### Prompt ST"
   ]
  },
  {
   "cell_type": "code",
   "execution_count": null,
   "metadata": {},
   "outputs": [],
   "source": [
    "for i in range(len(df))[239:]:\n",
    "    \n",
    "    prompt_st = f\"\"\"\n",
    "        You are an experienced systematic review researcher and you are trying to conduct a PRISMA systematic review and meta-analysis titled: \"Light therapy in insomnia disorder.\"\\\n",
    "\n",
    "        Based on the guideline below, check the title and abstract to determine if the study should be selected for further assessment and full-text screening.\\\n",
    "        ** Provide your answer only as 0 or 1 **\\\n",
    "            \n",
    "        Guideline:\\\n",
    "            \n",
    "        1. Does the title or abstract use English?\n",
    "        \n",
    "        a. Yes: continue screening\n",
    "        b. No: stop screening\\\n",
    "            \n",
    "        2. Does the title or abstract indicate that the study is original and not a review?\n",
    "        \n",
    "        a. Yes: continue screening\n",
    "        b. No: stop screening\\\n",
    "            \n",
    "        3. Does the abstract indicate that patients with sleep troubles were included?\n",
    "        \n",
    "        a. Yes or Unsure/Unclear: continue screening\n",
    "        b. No: stop screening\\\n",
    "        \n",
    "        4. Does the abstract indicate that any type of light therapy was studied?\n",
    "        \n",
    "        a. Yes or Unsure/Unclear: continue screening\n",
    "        b. No: stop screening\\\n",
    "            \n",
    "        Decision: Should this article be included?\n",
    "        \n",
    "        a. 1, all 4 screening questions answered Yes or Unclear\n",
    "        b. 0, at least one answers definitely “No”\\\n",
    "            \n",
    "        ** Your answer should be a binary number that determines the final decision output. **\\\n",
    "                \n",
    "        Article Title: {organized_articles[i][\"title\"]}\\\n",
    "\n",
    "        Article Abstract: {organized_articles[i][\"abstract\"]}\\\n",
    "        \"\"\"\n",
    "            \n",
    "    output = generate_prompt(prompt_st, api_keys[0])\n",
    "    \n",
    "    df.at[i, \"prompt_st\"] = output\n",
    "                \n",
    "    print(f\"The article {i} has been screened. The output is {output}.\")\n",
    "\n",
    "    time.sleep(21)\n",
    "        \n",
    "output_path = os.path.join(\"output\", f\"prompt_st.xlsx\")\n",
    "df.to_excel(output_path)\n",
    "\n",
    "df.head(5)"
   ]
  },
  {
   "cell_type": "code",
   "execution_count": null,
   "metadata": {},
   "outputs": [],
   "source": [
    "output_path = os.path.join(\"output\", f\"prompt_st.xlsx\")\n",
    "df.to_excel(output_path)\n",
    "\n",
    "df.head(5)"
   ]
  },
  {
   "cell_type": "markdown",
   "metadata": {},
   "source": [
    "### Final Table"
   ]
  },
  {
   "cell_type": "code",
   "execution_count": null,
   "metadata": {},
   "outputs": [],
   "source": [
    "output_path = os.path.join(\"output\", f\"final.xlsx\")\n",
    "\n",
    "df = pd.read_excel(output_path)"
   ]
  }
 ],
 "metadata": {
  "kernelspec": {
   "display_name": "tensorflow",
   "language": "python",
   "name": "python3"
  },
  "language_info": {
   "codemirror_mode": {
    "name": "ipython",
    "version": 3
   },
   "file_extension": ".py",
   "mimetype": "text/x-python",
   "name": "python",
   "nbconvert_exporter": "python",
   "pygments_lexer": "ipython3",
   "version": "3.10.11"
  },
  "orig_nbformat": 4
 },
 "nbformat": 4,
 "nbformat_minor": 2
}
